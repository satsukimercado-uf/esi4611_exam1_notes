{
 "cells": [
  {
   "cell_type": "code",
   "execution_count": null,
   "id": "3331a348",
   "metadata": {},
   "outputs": [],
   "source": [
    "import pandas as pd \n",
    "import numpy as np\n",
    "from sklearn.tree import DecisionTreeRegressor\n",
    "from sklearn.model_selection import train_test_split\n",
    "from sklearn.metrics import root_mean_squared_error\n",
    "from sklearn.metrics import mean_squared_error\n",
    "from sklearn.preprocessing import LabelEncoder\n",
    "from sklearn.preprocessing import OrdinalEncoder\n",
    "from sklearn import tree\n",
    "from sklearn.model_selection import cross_val_score\n",
    "from sklearn.linear_model import LinearRegression, LassoCV, RidgeCV\n",
    "import joblib # for saving and loading the model\n"
   ]
  },
  {
   "cell_type": "markdown",
   "id": "ce31fd11",
   "metadata": {},
   "source": [
    "Can you code a small function that returns a MajorityVote classifier (assume binary features and labels for simplicity)? If I gave you code for those functions, would you be able to tell me what they do?\n",
    "import numpy as np\n",
    "\n"
   ]
  },
  {
   "cell_type": "markdown",
   "id": "68f8c503",
   "metadata": {},
   "source": [
    "Can you code a small function that returns a Memorizer classifier? If I gave you code for those functions, would you be able to tell me what they do?\n"
   ]
  },
  {
   "cell_type": "markdown",
   "metadata": {},
   "source": [
    "Can you code a small function that returns a DecisionStump classifier? If I gave you code for those functions, would you be able to tell me what they do?\n",
    "\n"
   ]
  },
  {
   "cell_type": "markdown",
   "id": "f861aac6",
   "metadata": {},
   "source": [
    "If I gave you code for evaluating a model, would you be able to tell me what it is doing?\n"
   ]
  },
  {
   "cell_type": "markdown",
   "id": "b18ecdce",
   "metadata": {},
   "source": [
    "For functions that you import into your code from scikit-learn, what modules are the sources of those functions? For example, mean_absolute_error is in ... ... ... ... ... ... ... ... ... sklearn.metrics.\n"
   ]
  },
  {
   "cell_type": "markdown",
   "metadata": {},
   "source": [
    "Would you be able to perform a split of data into train and test sets using scikit-learn? What about without it?"
   ]
  },
  {
   "cell_type": "markdown",
   "id": "3ef99faf",
   "metadata": {},
   "source": [
    "What are possible functions that you can call to do cross validation? Where are these functions located in scikit-learn (how do you import them)? What arguments do those functions take?\n"
   ]
  },
  {
   "cell_type": "markdown",
   "id": "ee2e4de7",
   "metadata": {},
   "source": [
    "Note: you do not need to know all the possible arguments and what values they can take, but, for example, you should know how to choose the weight on the regularization term for lasso/ridge regularization. And you should know the effect of changing some of these common function parameters (for example, what does changing alpha do for ridge regularization, or how do you change the size of the train/test data splits?).\n",
    "\n"
   ]
  }
 ],
 "metadata": {
  "language_info": {
   "name": "python"
  }
 },
 "nbformat": 4,
 "nbformat_minor": 5
}
