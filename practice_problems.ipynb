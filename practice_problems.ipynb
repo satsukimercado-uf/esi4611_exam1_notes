{
 "cells": [
  {
   "cell_type": "code",
   "execution_count": 47,
   "id": "3331a348",
   "metadata": {},
   "outputs": [
    {
     "data": {
      "text/plain": [
       "<matplotlib.collections.PathCollection at 0x7fe0f7ed7140>"
      ]
     },
     "execution_count": 47,
     "metadata": {},
     "output_type": "execute_result"
    },
    {
     "data": {
      "image/png": "[encoded data removed]",
      "text/plain": [
       "<Figure size 640x480 with 1 Axes>"
      ]
     },
     "metadata": {},
     "output_type": "display_data"
    }
   ],
   "source": [
    "import pandas as pd \n",
    "import numpy as np\n",
    "from sklearn.tree import DecisionTreeRegressor\n",
    "from sklearn.tree import DecisionTreeClassifier\n",
    "from sklearn.model_selection import train_test_split\n",
    "from sklearn.metrics import root_mean_squared_error\n",
    "from sklearn.metrics import mean_squared_error\n",
    "from sklearn.preprocessing import LabelEncoder\n",
    "from sklearn.preprocessing import OrdinalEncoder\n",
    "from sklearn import tree\n",
    "from sklearn.model_selection import cross_val_score\n",
    "from sklearn.linear_model import LinearRegression, LassoCV, RidgeCV\n",
    "import joblib # for saving and loading the model\n",
    "import matplotlib.pyplot as plt\n",
    "\n",
    "x = np.array([-2.69, -2.25, -1.76, -1.25, -0.36, 0.06, 0.30, 1.25, 2.36, 2.38]).reshape(-1,1)\n",
    "y = np.array([1,1,1,-1 ,-1,1,1,1,1, 1]).reshape(-1,1)\n",
    "x_test = np.array([-2.45, -1.84, 0.06, 1.30, 1.96]).reshape(-1,1)\n",
    "\n",
    "fig, ax = plt.subplots()\n",
    "ax.scatter(x, y, c=\"blue\")"
   ]
  },
  {
   "cell_type": "markdown",
   "id": "ce31fd11",
   "metadata": {},
   "source": [
    "Can you code a small function that returns a MajorityVote classifier (assume binary features and labels for simplicity)? If I gave you code for those functions, would you be able to tell me what they do?\n"
   ]
  },
  {
   "cell_type": "code",
   "execution_count": 25,
   "id": "436f55de",
   "metadata": {},
   "outputs": [],
   "source": [
    "def mv_classifier(trees,x):\n",
    "    n = len(x)\n",
    "    all_preds_list = []\n",
    "\n",
    "    for tree in trees:\n",
    "        y_preds = tree.predict(x)\n",
    "        all_preds_list.append(y_preds)\n",
    "\n",
    "    all_preds = np.vstack(all_preds_list)\n",
    "    \n",
    "    majority_preds = np.round(all_preds.mean(axis=0)).astype(int)\n",
    "    \n",
    "    # Return majority_preds\n",
    "    return majority_preds\n"
   ]
  },
  {
   "cell_type": "code",
   "execution_count": 26,
   "id": "46996fc9",
   "metadata": {},
   "outputs": [
    {
     "name": "stdout",
     "output_type": "stream",
     "text": [
      "[1 1 1 1 1 1 1 1 1 1]\n"
     ]
    }
   ],
   "source": [
    "# RUN AS MAIN  \n",
    "r = 3\n",
    "trees = []\n",
    "for i in range(r):\n",
    "    tree = DecisionTreeClassifier(max_depth = 1)\n",
    "    tree.fit(x,y)\n",
    "    trees.append(tree)\n",
    "\n",
    "    \n",
    "# Call majority vote function\n",
    "mv = mv_classifier(trees,x)\n",
    "mv_value = mv.mean()\n",
    "print(mv)"
   ]
  },
  {
   "cell_type": "markdown",
   "id": "6e527332",
   "metadata": {},
   "source": [
    "Can you code a small function that returns a Memorizer classifier? If I gave you code for those functions, would you be able to tell me what they do?\n"
   ]
  },
  {
   "cell_type": "code",
   "execution_count": null,
   "id": "96928d24",
   "metadata": {},
   "outputs": [
    {
     "name": "stdout",
     "output_type": "stream",
     "text": [
      "1.0\n",
      "[1. 1. 1. 1. 1.]\n"
     ]
    }
   ],
   "source": [
    "def memorizer(mv, x, y, x_test):\n",
    "    mem_preds = []\n",
    "    n = len(x_test)\n",
    "    \n",
    "    # If x_test is in x, return y\n",
    "    for i in range(0,n):\n",
    "        index = np.where((x_test[i] == x).all(axis=1))[0]\n",
    "\n",
    "        if index.size > 0:\n",
    "            mem_preds.append(y[i,0])\n",
    "\n",
    "        # If x_test is not in x, return mv\n",
    "        else:\n",
    "            mem_preds.append(mv)\n",
    "\n",
    "    # Make y_preds into an array \n",
    "    mem_preds = np.array(mem_preds)\n",
    "\n",
    "    # Return memorizer predictions \n",
    "    return mem_preds\n"
   ]
  },
  {
   "cell_type": "code",
   "execution_count": null,
   "id": "68f8c503",
   "metadata": {},
   "outputs": [
    {
     "name": "stdout",
     "output_type": "stream",
     "text": [
      "1.0\n",
      "[1. 1. 1. 1. 1.]\n"
     ]
    }
   ],
   "source": [
    "# RUN AS MAIN  \n",
    "r = 3\n",
    "trees = []\n",
    "for i in range(r):\n",
    "    tree = DecisionTreeClassifier(max_depth = 1)\n",
    "    tree.fit(x,y)\n",
    "    trees.append(tree)\n",
    "\n",
    "# Call majority vote function\n",
    "mv = mv_classifier(trees,x)\n",
    "mv_value = mv.mean()\n",
    "# print(mv_value)\n",
    "\n",
    "# Call memorizer function \n",
    "mem = memorizer(mv_value, x, y, x_test)\n",
    "\n",
    "# Return memorizer predictions\n",
    "print(mem)"
   ]
  },
  {
   "cell_type": "markdown",
   "metadata": {},
   "source": [
    "Can you code a small function that returns a DecisionStump classifier? If I gave you code for those functions, would you be able to tell me what they do?\n",
    "\n"
   ]
  },
  {
   "cell_type": "code",
   "execution_count": 43,
   "id": "b908750b",
   "metadata": {},
   "outputs": [
    {
     "name": "stdout",
     "output_type": "stream",
     "text": [
      "[1 1 1 1 1 1 1 1 1 1]\n"
     ]
    }
   ],
   "source": [
    "stump = DecisionTreeClassifier(max_depth = 1) # additional argument is random_state =\n",
    "stump.fit(x,y) # additional arguments is sample_weights =\n",
    "y_pred = stump.predict(x)\n",
    "print(y_pred)"
   ]
  },
  {
   "cell_type": "markdown",
   "id": "f861aac6",
   "metadata": {},
   "source": [
    "If I gave you code for evaluating a model, would you be able to tell me what it is doing?\n"
   ]
  },
  {
   "cell_type": "markdown",
   "id": "b18ecdce",
   "metadata": {},
   "source": [
    "For functions that you import into your code from scikit-learn, what modules are the sources of those functions? For example, mean_absolute_error is in ... ... ... ... ... ... ... ... ... sklearn.metrics.\n"
   ]
  },
  {
   "cell_type": "code",
   "execution_count": 44,
   "id": "1b1ff099",
   "metadata": {},
   "outputs": [],
   "source": [
    "import pandas as pd \n",
    "import numpy as np\n",
    "\n",
    "from sklearn import tree\n",
    "from sklearn.tree import DecisionTreeRegressor\n",
    "from sklearn.tree import DecisionTreeClassifier\n",
    "\n",
    "from sklearn.model_selection import cross_val_score\n",
    "from sklearn.model_selection import train_test_split\n",
    "\n",
    "from sklearn.metrics import root_mean_squared_error\n",
    "from sklearn.metrics import mean_squared_error\n",
    "\n",
    "from sklearn.preprocessing import LabelEncoder\n",
    "from sklearn.preprocessing import OrdinalEncoder\n",
    "\n",
    "\n",
    "from sklearn.linear_model import LinearRegression, LassoCV, RidgeCV\n",
    "\n",
    "from sklearn.inspection import DecisionBoundaryDisplay\n",
    "\n",
    "import joblib # for saving and loading the model\n",
    "import matplotlib.pyplot as plt\n",
    "\n",
    "import os\n",
    "import sys\n",
    "import warnings"
   ]
  },
  {
   "cell_type": "markdown",
   "metadata": {},
   "source": [
    "Would you be able to perform a split of data into train and test sets using scikit-learn? What about without it?"
   ]
  },
  {
   "cell_type": "code",
   "execution_count": 50,
   "id": "ea7153aa",
   "metadata": {},
   "outputs": [
    {
     "name": "stdout",
     "output_type": "stream",
     "text": [
      "X_train:\n",
      " [[ 2.36]\n",
      " [-0.36]\n",
      " [-2.69]\n",
      " [ 0.06]\n",
      " [ 0.3 ]\n",
      " [-1.25]\n",
      " [-1.76]\n",
      " [-2.25]]\n",
      "X_test:\n",
      " [[1.25]\n",
      " [2.38]]\n",
      "y_train:\n",
      " [[ 1.]\n",
      " [-1.]\n",
      " [ 1.]\n",
      " [ 1.]\n",
      " [ 1.]\n",
      " [-1.]\n",
      " [ 1.]\n",
      " [ 1.]]\n",
      "y_test:\n",
      " [[1.]\n",
      " [1.]]\n"
     ]
    }
   ],
   "source": [
    "x_train, x_test, y_train, y_test = train_test_split(x, y, train_size = 0.2, random_state = 42) # random_state is the seed\n",
    "\n",
    "# Define test/train ratio\n",
    "test_ratio = 0.2\n",
    "train_ratio = 1 - test_ratio\n",
    "\n",
    "# Randomize x and y\n",
    "data = np.hstack([x,y])\n",
    "np.random.shuffle(data)\n",
    "n = len(y)\n",
    "\n",
    "# Split train and test data \n",
    "split_ind = int(n*test_ratio)\n",
    "test_data = data[: split_ind, :]\n",
    "train_data = data[split_ind:, :]\n",
    "\n",
    "# Split x and y\n",
    "x_test = test_data[:, :-1]\n",
    "y_test = test_data[:, -1].reshape(-1,1)\n",
    "\n",
    "x_train = train_data[:, :-1]\n",
    "y_train = train_data[:, -1].reshape(-1,1)\n",
    "\n",
    "# Print to check\n",
    "\n",
    "print(\"X_train:\\n\", x_train)\n",
    "print(\"X_test:\\n\", x_test)\n",
    "print(\"y_train:\\n\", y_train)\n",
    "print(\"y_test:\\n\", y_test)\n",
    "\n",
    "\n"
   ]
  },
  {
   "cell_type": "markdown",
   "id": "3ef99faf",
   "metadata": {},
   "source": [
    "What are possible functions that you can call to do cross validation? Where are these functions located in scikit-learn (how do you import them)? What arguments do those functions take?\n"
   ]
  },
  {
   "cell_type": "code",
   "execution_count": 51,
   "id": "8301e5a4",
   "metadata": {},
   "outputs": [
    {
     "name": "stderr",
     "output_type": "stream",
     "text": [
      "/home/codespace/.local/lib/python3.12/site-packages/sklearn/model_selection/_split.py:811: UserWarning: The least populated class in y has only 2 members, which is less than n_splits=5.\n",
      "  warnings.warn(\n"
     ]
    }
   ],
   "source": [
    "from sklearn.model_selection import cross_val_score\n",
    "\n",
    "clf = DecisionTreeClassifier()\n",
    "scores = cross_val_score(clf, x, y, cv=5, scoring='accuracy')\n",
    "\n",
    "# estimator = DecisionTreeClassifier, DecisionTreeRegressor \n",
    "# x array\n",
    "# y array\n",
    "# cv = to specify the number of folds\n",
    "# scoring = accuracy, neg_mean_squared_error, neg_mean_absolute_error, neg_max_error, neg_root_mean_squared_error"
   ]
  },
  {
   "cell_type": "markdown",
   "id": "ee2e4de7",
   "metadata": {},
   "source": [
    "Note: you do not need to know all the possible arguments and what values they can take, but, for example, you should know how to choose the weight on the regularization term for lasso/ridge regularization. And you should know the effect of changing some of these common function parameters (for example, what does changing alpha do for ridge regularization, or how do you change the size of the train/test data splits?).\n",
    "\n"
   ]
  },
  {
   "cell_type": "code",
   "execution_count": 54,
   "id": "3e36bf5e",
   "metadata": {},
   "outputs": [
    {
     "name": "stderr",
     "output_type": "stream",
     "text": [
      "/home/codespace/.local/lib/python3.12/site-packages/sklearn/linear_model/_coordinate_descent.py:1705: DataConversionWarning: A column-vector y was passed when a 1d array was expected. Please change the shape of y to (n_samples, ), for example using ravel().\n",
      "  y = column_or_1d(y, warn=True)\n"
     ]
    }
   ],
   "source": [
    "# Linear regression\n",
    "linear_model = LinearRegression()\n",
    "linear_model.fit(x,y)\n",
    "y_pred_lin = linear_model.predict(x_test)\n",
    "train_mse_lin = mean_squared_error(y_train, linear_model.predict(x_train))\n",
    "test_mse_lin = mean_squared_error(y_test, y_pred_lin)\n",
    "selected_features_lin = np.sum(linear_model.coef_ != 0)\n",
    "avg_coefficient_lin = np.mean(np.abs(linear_model.coef_[linear_model.coef_ != 0])) if selected_features_lin > 0 else 0\n",
    "\n",
    "# Lasso regression \n",
    "# alphas = value of penalty hyperparameter lambda to test\n",
    "# cv = number of folds\n",
    "lasso_model = LassoCV(alphas=np.logspace(-3, 2, 50), cv=5, random_state=42)\n",
    "lasso_model.fit(x,y)\n",
    "y_pred_lasso = lasso_model.predict(x_test)\n",
    "train_mse_lasso = mean_squared_error(y_train, lasso_model.predict(x_train))\n",
    "test_mse_lasso = mean_squared_error(y_test, y_pred_lasso)\n",
    "best_lasso_alpha = lasso_model.alpha_  # high alpha = stronger regularization, more coefficeints are exacly zero\n",
    "selected_features_lasso = np.sum(lasso_model.coef_ != 0)\n",
    "avg_coefficient_lasso = np.mean(np.abs(lasso_model.coef_[lasso_model.coef_ != 0])) if selected_features_lasso > 0 else 0\n",
    "\n",
    "# Ridge regression\n",
    "# alphas = value of penalty hyperparameter lambda to test\n",
    "# cv = number of folds\n",
    "ridge_model =  RidgeCV(alphas = np.logspace(-3, 2, 50), cv=5)\n",
    "ridge_model.fit(x,y)\n",
    "y_pred_ridge = ridge_model.predict(x_test)\n",
    "train_mse_ridge = mean_squared_error(y_train, ridge_model.predict(x_train))\n",
    "test_mse_ridge = mean_squared_error(y_test, y_pred_ridge)\n",
    "best_ridge_alpha = ridge_model.alpha_ # high alpha = stronger regularization, more coefficeints are near but not exactly zero\n",
    "selected_features_ridge = np.sum(ridge_model.coef_ != 0)\n",
    "avg_coefficient_ridge = np.mean(np.abs(ridge_model.coef_[ridge_model.coef_ != 0])) if selected_features_ridge > 0 else 0\n"
   ]
  }
 ],
 "metadata": {
  "kernelspec": {
   "display_name": "Python 3",
   "language": "python",
   "name": "python3"
  },
  "language_info": {
   "codemirror_mode": {
    "name": "ipython",
    "version": 3
   },
   "file_extension": ".py",
   "mimetype": "text/x-python",
   "name": "python",
   "nbconvert_exporter": "python",
   "pygments_lexer": "ipython3",
   "version": "3.12.1"
  }
 },
 "nbformat": 4,
 "nbformat_minor": 5
}
