{
 "cells": [
  {
   "cell_type": "code",
   "execution_count": 3,
   "id": "e9d30919",
   "metadata": {},
   "outputs": [],
   "source": [
    "import numpy as np\n",
    "import pandas as pd "
   ]
  },
  {
   "cell_type": "markdown",
   "id": "d0badd0f",
   "metadata": {},
   "source": [
    "### homework 1.3a Write a function MAE(true_labels,pred_labels) that computes mean absolute error (MAE) of a model (for a regression task). It should take in two arguments: the first is the true labels and the second is the predicted labels, and it will compute the sum of the absolute value of the differences between the label values"
   ]
  },
  {
   "cell_type": "code",
   "execution_count": 29,
   "id": "e367cf4c",
   "metadata": {},
   "outputs": [],
   "source": [
    "def mae(true_labels, pred_labels):\n",
    "    result = 0\n",
    "    for i in range(len(true_labels)):\n",
    "        result = result + np.abs(true_labels[i] - pred_labels[i])\n",
    "\n",
    "    return result"
   ]
  },
  {
   "cell_type": "markdown",
   "id": "695d6620",
   "metadata": {},
   "source": [
    "### homework 1.3b Consider the following data. Suppose we have “learned” the function ˆf (x) = 0. What is the MAE of this function?"
   ]
  },
  {
   "cell_type": "code",
   "execution_count": 31,
   "id": "60f748c5",
   "metadata": {},
   "outputs": [
    {
     "name": "stdout",
     "output_type": "stream",
     "text": [
      "MAE= 6.210000000000001\n"
     ]
    }
   ],
   "source": [
    "x = np.array([-2.69, -2.25, -1.76, -1.25, -0.36, 0.06, 0.30, 1.25, 2.36, 2.38])\n",
    "y = np.array([-0.44, -0.78, -0.98, -0.95, -0.35, 0.06, 0.30, 0.95, 0.71, 0.69])\n",
    "y_pred = np.array([0,0,0,0,0,0,0,0,0,0])\n",
    "\n",
    "mae_results = mae(y,y_pred)\n",
    "print(\"MAE=\", mae_results)"
   ]
  },
  {
   "cell_type": "markdown",
   "id": "25f67690",
   "metadata": {},
   "source": [
    "### homework 1.3c Write a function predict(x) which takes as an input a real number x and outputs a real number y. Report the MAE of your function.\n"
   ]
  },
  {
   "cell_type": "code",
   "execution_count": 33,
   "id": "8b26801d",
   "metadata": {},
   "outputs": [
    {
     "name": "stdout",
     "output_type": "stream",
     "text": [
      "MAE= 15.780000000000001\n"
     ]
    }
   ],
   "source": [
    "def predict(x):\n",
    "    if x%2 ==0:\n",
    "        y = x*2\n",
    "    else:\n",
    "        y  = x*1.5\n",
    "    return y\n",
    "\n",
    "x = np.array([-2.69, -2.25, -1.76, -1.25, -0.36, 0.06, 0.30, 1.25, 2.36, 2.38])\n",
    "y = np.array([-0.44, -0.78, -0.98, -0.95, -0.35, 0.06, 0.30, 0.95, 0.71, 0.69])\n",
    "\n",
    "y_pred = []\n",
    "\n",
    "for i in range(len(x)):\n",
    "    a = predict(x[i])\n",
    "    y_pred.append(a)\n",
    "# print(y_pred)\n",
    "\n",
    "mae_results = mae(y,y_pred)\n",
    "print(\"MAE=\", mae_results)"
   ]
  }
 ],
 "metadata": {
  "kernelspec": {
   "display_name": "Python 3",
   "language": "python",
   "name": "python3"
  },
  "language_info": {
   "codemirror_mode": {
    "name": "ipython",
    "version": 3
   },
   "file_extension": ".py",
   "mimetype": "text/x-python",
   "name": "python",
   "nbconvert_exporter": "python",
   "pygments_lexer": "ipython3",
   "version": "3.12.1"
  }
 },
 "nbformat": 4,
 "nbformat_minor": 5
}
